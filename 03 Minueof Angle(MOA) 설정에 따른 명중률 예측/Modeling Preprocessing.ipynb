{
 "cells": [
  {
   "cell_type": "code",
   "execution_count": 3,
   "id": "7f9efe5a-52d7-43c8-b81d-1115a4372f43",
   "metadata": {},
   "outputs": [
    {
     "name": "stdout",
     "output_type": "stream",
     "text": [
      "     shoot  meter  MOA\n",
      "0       30    100    5\n",
      "1       30    100    5\n",
      "2       30    100    5\n",
      "3       30    100    5\n",
      "4       30    100    5\n",
      "..     ...    ...  ...\n",
      "265     13    250   15\n",
      "266     14    250   15\n",
      "267     13    250   15\n",
      "268     13    250   15\n",
      "269     14    250   15\n",
      "\n",
      "[270 rows x 3 columns]\n"
     ]
    }
   ],
   "source": [
    "import pandas as pd\n",
    "MOADF = pd.read_csv('Linear Regression 프로젝트데이터_박영제_03.csv')\n",
    "MOADF.to_pickle(\"MOADF.pkl\")\n",
    "MOADF = pd.read_pickle(\"MOADF.pkl\")\n",
    "print(MOADF)"
   ]
  },
  {
   "cell_type": "code",
   "execution_count": 92,
   "id": "7afd5038-3b3b-4af2-a3cf-407ee4f93280",
   "metadata": {},
   "outputs": [
    {
     "data": {
      "text/html": [
       "<div>\n",
       "<style scoped>\n",
       "    .dataframe tbody tr th:only-of-type {\n",
       "        vertical-align: middle;\n",
       "    }\n",
       "\n",
       "    .dataframe tbody tr th {\n",
       "        vertical-align: top;\n",
       "    }\n",
       "\n",
       "    .dataframe thead th {\n",
       "        text-align: right;\n",
       "    }\n",
       "</style>\n",
       "<table border=\"1\" class=\"dataframe\">\n",
       "  <thead>\n",
       "    <tr style=\"text-align: right;\">\n",
       "      <th></th>\n",
       "      <th>shoot</th>\n",
       "      <th>meter</th>\n",
       "      <th>MOA</th>\n",
       "    </tr>\n",
       "  </thead>\n",
       "  <tbody>\n",
       "    <tr>\n",
       "      <th>0</th>\n",
       "      <td>30</td>\n",
       "      <td>100</td>\n",
       "      <td>5</td>\n",
       "    </tr>\n",
       "    <tr>\n",
       "      <th>1</th>\n",
       "      <td>30</td>\n",
       "      <td>100</td>\n",
       "      <td>5</td>\n",
       "    </tr>\n",
       "    <tr>\n",
       "      <th>2</th>\n",
       "      <td>30</td>\n",
       "      <td>100</td>\n",
       "      <td>5</td>\n",
       "    </tr>\n",
       "    <tr>\n",
       "      <th>3</th>\n",
       "      <td>30</td>\n",
       "      <td>100</td>\n",
       "      <td>5</td>\n",
       "    </tr>\n",
       "    <tr>\n",
       "      <th>4</th>\n",
       "      <td>30</td>\n",
       "      <td>100</td>\n",
       "      <td>5</td>\n",
       "    </tr>\n",
       "  </tbody>\n",
       "</table>\n",
       "</div>"
      ],
      "text/plain": [
       "   shoot  meter  MOA\n",
       "0     30    100    5\n",
       "1     30    100    5\n",
       "2     30    100    5\n",
       "3     30    100    5\n",
       "4     30    100    5"
      ]
     },
     "execution_count": 92,
     "metadata": {},
     "output_type": "execute_result"
    }
   ],
   "source": [
    "import numpy as np\n",
    "import pandas as pd\n",
    "import matplotlib.pyplot as plt\n",
    "import seaborn as sns\n",
    "from sklearn.linear_model import LinearRegression \n",
    "from sklearn.metrics import mean_squared_error\n",
    "MOADF.head(5)"
   ]
  },
  {
   "cell_type": "code",
   "execution_count": 8,
   "id": "5e251bd3-1473-4f6a-94db-e35eeed35c75",
   "metadata": {},
   "outputs": [
    {
     "data": {
      "text/plain": [
       "<AxesSubplot:ylabel='Frequency'>"
      ]
     },
     "execution_count": 8,
     "metadata": {},
     "output_type": "execute_result"
    },
    {
     "data": {
      "text/plain": [
       "<Figure size 1080x1080 with 0 Axes>"
      ]
     },
     "metadata": {},
     "output_type": "display_data"
    },
    {
     "data": {
      "image/png": "[encoded data removed]",
      "text/plain": [
       "<Figure size 432x288 with 1 Axes>"
      ]
     },
     "metadata": {
      "needs_background": "light"
     },
     "output_type": "display_data"
    },
    {
     "data": {
      "image/png": "[encoded data removed]",
      "text/plain": [
       "<Figure size 432x288 with 1 Axes>"
      ]
     },
     "metadata": {
      "needs_background": "light"
     },
     "output_type": "display_data"
    },
    {
     "data": {
      "image/png": "[encoded data removed]",
      "text/plain": [
       "<Figure size 432x288 with 1 Axes>"
      ]
     },
     "metadata": {
      "needs_background": "light"
     },
     "output_type": "display_data"
    }
   ],
   "source": [
    "import pandas as pd\n",
    "import matplotlib.pyplot as plt\n",
    "import seaborn as sns\n",
    "plt.figure(figsize = (15,15))\n",
    "MOADF.plot(kind='hist',  y='shoot' )\n",
    "MOADF.plot(kind='hist',  y='meter' )\n",
    "MOADF.plot(kind='hist',  y='MOA' )"
   ]
  },
  {
   "cell_type": "code",
   "execution_count": 94,
   "id": "f058aefe-e716-4a8d-bbda-43f4412979d2",
   "metadata": {},
   "outputs": [
    {
     "data": {
      "text/plain": [
       "<AxesSubplot:ylabel='Frequency'>"
      ]
     },
     "execution_count": 94,
     "metadata": {},
     "output_type": "execute_result"
    },
    {
     "data": {
      "image/png": "[encoded data removed]",
      "text/plain": [
       "<Figure size 432x288 with 1 Axes>"
      ]
     },
     "metadata": {
      "needs_background": "light"
     },
     "output_type": "display_data"
    },
    {
     "data": {
      "image/png": "[encoded data removed]",
      "text/plain": [
       "<Figure size 432x288 with 1 Axes>"
      ]
     },
     "metadata": {
      "needs_background": "light"
     },
     "output_type": "display_data"
    },
    {
     "data": {
      "image/png": "[encoded data removed]",
      "text/plain": [
       "<Figure size 432x288 with 1 Axes>"
      ]
     },
     "metadata": {
      "needs_background": "light"
     },
     "output_type": "display_data"
    }
   ],
   "source": [
    "MOADF.plot(kind='hist',  y='shoot' )\n",
    "MOADF.plot(kind='hist',  y='meter' )\n",
    "MOADF.plot(kind='hist',  y='MOA' )"
   ]
  },
  {
   "cell_type": "code",
   "execution_count": 15,
   "id": "a79756ce-5352-4aaa-9f83-89837c1640cb",
   "metadata": {},
   "outputs": [
    {
     "name": "stdout",
     "output_type": "stream",
     "text": [
      "correlation between x1 and x2:  0.0\n",
      "correlation between x1 and x2:  -0.6358507621008532\n",
      "correlation between x1 and x2:  -0.5731515900930911\n"
     ]
    }
   ],
   "source": [
    "correlation = MOADF['meter'].corr(MOADF['MOA'])\n",
    "print('correlation between x1 and x2: ', correlation)\n",
    "correlation = MOADF['shoot'].corr(MOADF['MOA'])\n",
    "print('correlation between x1 and x2: ', correlation)\n",
    "correlation = MOADF['meter'].corr(MOADF['shoot'])\n",
    "print('correlation between x1 and x2: ', correlation)"
   ]
  },
  {
   "cell_type": "code",
   "execution_count": 10,
   "id": "e4f7077a-202d-4aa8-a4a5-ac04e345c7bf",
   "metadata": {},
   "outputs": [
    {
     "data": {
      "image/png": "[encoded data removed]",
      "text/plain": [
       "<Figure size 1080x360 with 3 Axes>"
      ]
     },
     "metadata": {
      "needs_background": "light"
     },
     "output_type": "display_data"
    }
   ],
   "source": [
    "import matplotlib.pyplot as plt\n",
    "\n",
    "fig, ax = plt.subplots(1, 3, figsize = (15, 5))\n",
    "ax[0].scatter(MOADF['meter'],MOADF['shoot'],label = 'shoot vs. meter')\n",
    "ax[0].legend()\n",
    "ax[1].scatter(MOADF['MOA'],MOADF['shoot'],label = 'shoot vs. MOA')\n",
    "ax[1].legend()\n",
    "ax[2].scatter(MOADF['meter'],MOADF['MOA'],label = 'meter vs. MOA')\n",
    "ax[2].legend()\n",
    "plt.show()"
   ]
  },
  {
   "cell_type": "code",
   "execution_count": 95,
   "id": "87c488ac-285e-40e6-9990-ebe0a17ef3ae",
   "metadata": {},
   "outputs": [
    {
     "data": {
      "text/plain": [
       "<seaborn.axisgrid.PairGrid at 0x1da30150dc0>"
      ]
     },
     "execution_count": 95,
     "metadata": {},
     "output_type": "execute_result"
    },
    {
     "data": {
      "text/plain": [
       "<Figure size 792x792 with 0 Axes>"
      ]
     },
     "metadata": {},
     "output_type": "display_data"
    },
    {
     "data": {
      "image/png": "[encoded data removed]",
      "text/plain": [
       "<Figure size 360x360 with 6 Axes>"
      ]
     },
     "metadata": {
      "needs_background": "light"
     },
     "output_type": "display_data"
    }
   ],
   "source": [
    "plt.figure(figsize=(11,11))\n",
    "sns.pairplot(MOADF.drop(columns = ['shoot']))"
   ]
  },
  {
   "cell_type": "code",
   "execution_count": 96,
   "id": "c68e21ed-64bc-410f-86b8-f418932cf8e4",
   "metadata": {},
   "outputs": [
    {
     "data": {
      "text/plain": [
       "<seaborn.axisgrid.PairGrid at 0x1da313b54c0>"
      ]
     },
     "execution_count": 96,
     "metadata": {},
     "output_type": "execute_result"
    },
    {
     "data": {
      "text/plain": [
       "<Figure size 792x792 with 0 Axes>"
      ]
     },
     "metadata": {},
     "output_type": "display_data"
    },
    {
     "data": {
      "image/png": "[encoded data removed]",
      "text/plain": [
       "<Figure size 360x360 with 6 Axes>"
      ]
     },
     "metadata": {
      "needs_background": "light"
     },
     "output_type": "display_data"
    }
   ],
   "source": [
    "plt.figure(figsize=(11,11))\n",
    "sns.pairplot(MOADF.drop(columns = ['MOA']))"
   ]
  },
  {
   "cell_type": "code",
   "execution_count": 18,
   "id": "7f9d14d1-7122-4620-8dcb-06957b3d4c6a",
   "metadata": {},
   "outputs": [
    {
     "data": {
      "text/plain": [
       "<seaborn.axisgrid.PairGrid at 0x1da2e5823d0>"
      ]
     },
     "execution_count": 18,
     "metadata": {},
     "output_type": "execute_result"
    },
    {
     "data": {
      "text/plain": [
       "<Figure size 792x792 with 0 Axes>"
      ]
     },
     "metadata": {},
     "output_type": "display_data"
    },
    {
     "data": {
      "image/png": "[encoded data removed]",
      "text/plain": [
       "<Figure size 540x540 with 12 Axes>"
      ]
     },
     "metadata": {
      "needs_background": "light"
     },
     "output_type": "display_data"
    }
   ],
   "source": [
    "plt.figure(figsize=(11,11))\n",
    "sns.pairplot(MOADF)"
   ]
  },
  {
   "cell_type": "code",
   "execution_count": 19,
   "id": "d5ccafb1-ac9e-4c57-a9a1-f425c77836aa",
   "metadata": {},
   "outputs": [],
   "source": [
    "from sklearn.linear_model import LinearRegression \n",
    " \n",
    "data_X = MOADF.loc[:, ['meter', 'MOA']]\n",
    "data_y = MOADF['shoot']\n",
    "sk_lin_model = LinearRegression()\n",
    "my_model = sk_lin_model.fit(data_X, data_y)"
   ]
  },
  {
   "cell_type": "code",
   "execution_count": 20,
   "id": "6600ecc3-8d28-4844-a6ea-a1a0fcf0e6a6",
   "metadata": {},
   "outputs": [],
   "source": [
    "r2_score = my_model.score(data_X, data_y)"
   ]
  },
  {
   "cell_type": "code",
   "execution_count": 21,
   "id": "c4694d4d-8cde-450c-8ac9-0b2ebd399def",
   "metadata": {},
   "outputs": [
    {
     "name": "stdout",
     "output_type": "stream",
     "text": [
      "R2 score is  0.7328089368904734\n",
      "intercept (b0)  44.48571428571429\n",
      "  Predictor coefficient Name  coefficient Value\n",
      "0     meter               b1          -0.053175\n",
      "1       MOA               b2          -0.901111\n"
     ]
    }
   ],
   "source": [
    "print('R2 score is ', r2_score)\n",
    "print('intercept (b0) ', my_model.intercept_)\n",
    "coef_names = ['b1','b2']\n",
    "print(pd.DataFrame({'Predictor': data_X.columns,\n",
    "                    'coefficient Name':coef_names, \n",
    "                    'coefficient Value': my_model.coef_}))"
   ]
  },
  {
   "cell_type": "code",
   "execution_count": 22,
   "id": "ce03a864-919e-41b1-84be-f4e3004a5da1",
   "metadata": {},
   "outputs": [
    {
     "name": "stderr",
     "output_type": "stream",
     "text": [
      "C:\\Users\\redoz\\anaconda3\\lib\\site-packages\\statsmodels\\tsa\\base\\tsa_model.py:7: FutureWarning: pandas.Int64Index is deprecated and will be removed from pandas in a future version. Use pandas.Index with the appropriate dtype instead.\n",
      "  from pandas import (to_datetime, Int64Index, DatetimeIndex, Period,\n",
      "C:\\Users\\redoz\\anaconda3\\lib\\site-packages\\statsmodels\\tsa\\base\\tsa_model.py:7: FutureWarning: pandas.Float64Index is deprecated and will be removed from pandas in a future version. Use pandas.Index with the appropriate dtype instead.\n",
      "  from pandas import (to_datetime, Int64Index, DatetimeIndex, Period,\n"
     ]
    },
    {
     "name": "stdout",
     "output_type": "stream",
     "text": [
      "                            OLS Regression Results                            \n",
      "==============================================================================\n",
      "Dep. Variable:                  shoot   R-squared:                       0.733\n",
      "Model:                            OLS   Adj. R-squared:                  0.731\n",
      "Method:                 Least Squares   F-statistic:                     366.1\n",
      "Date:                Tue, 18 Oct 2022   Prob (F-statistic):           3.03e-77\n",
      "Time:                        19:45:45   Log-Likelihood:                -678.89\n",
      "No. Observations:                 270   AIC:                             1364.\n",
      "Df Residuals:                     267   BIC:                             1375.\n",
      "Df Model:                           2                                         \n",
      "Covariance Type:            nonrobust                                         \n",
      "==============================================================================\n",
      "                 coef    std err          t      P>|t|      [0.025      0.975]\n",
      "------------------------------------------------------------------------------\n",
      "const         44.4857      0.724     61.455      0.000      43.060      45.911\n",
      "meter         -0.0532      0.003    -18.118      0.000      -0.059      -0.047\n",
      "MOA           -0.9011      0.045    -20.100      0.000      -0.989      -0.813\n",
      "==============================================================================\n",
      "Omnibus:                       43.647   Durbin-Watson:                   0.264\n",
      "Prob(Omnibus):                  0.000   Jarque-Bera (JB):               13.633\n",
      "Skew:                          -0.271   Prob(JB):                      0.00110\n",
      "Kurtosis:                       2.042   Cond. No.                         767.\n",
      "==============================================================================\n",
      "\n",
      "Notes:\n",
      "[1] Standard Errors assume that the covariance matrix of the errors is correctly specified.\n",
      "const    44.485714\n",
      "meter    -0.053175\n",
      "MOA      -0.901111\n",
      "dtype: float64\n"
     ]
    },
    {
     "name": "stderr",
     "output_type": "stream",
     "text": [
      "C:\\Users\\redoz\\anaconda3\\lib\\site-packages\\statsmodels\\tsa\\tsatools.py:142: FutureWarning: In a future version of pandas all arguments of concat except for the argument 'objs' will be keyword-only.\n",
      "  x = pd.concat(x[::order], 1)\n"
     ]
    }
   ],
   "source": [
    "import statsmodels.api as sm\n",
    "\n",
    "X = sm.add_constant(MOADF.loc[:, ['meter', 'MOA']])\n",
    "lin_model = sm.OLS(MOADF['shoot'], X)\n",
    "my_model = lin_model.fit()\n",
    "print(my_model.summary())\n",
    "print(my_model.params)"
   ]
  },
  {
   "cell_type": "code",
   "execution_count": 23,
   "id": "7949a176-aa37-4167-8b0d-cbfa9b297799",
   "metadata": {},
   "outputs": [
    {
     "data": {
      "text/html": [
       "<div>\n",
       "<style scoped>\n",
       "    .dataframe tbody tr th:only-of-type {\n",
       "        vertical-align: middle;\n",
       "    }\n",
       "\n",
       "    .dataframe tbody tr th {\n",
       "        vertical-align: top;\n",
       "    }\n",
       "\n",
       "    .dataframe thead th {\n",
       "        text-align: right;\n",
       "    }\n",
       "</style>\n",
       "<table border=\"1\" class=\"dataframe\">\n",
       "  <thead>\n",
       "    <tr style=\"text-align: right;\">\n",
       "      <th></th>\n",
       "      <th>shoot</th>\n",
       "      <th>meter</th>\n",
       "      <th>MOA</th>\n",
       "    </tr>\n",
       "  </thead>\n",
       "  <tbody>\n",
       "    <tr>\n",
       "      <th>0</th>\n",
       "      <td>30</td>\n",
       "      <td>100</td>\n",
       "      <td>5</td>\n",
       "    </tr>\n",
       "    <tr>\n",
       "      <th>1</th>\n",
       "      <td>30</td>\n",
       "      <td>100</td>\n",
       "      <td>5</td>\n",
       "    </tr>\n",
       "    <tr>\n",
       "      <th>2</th>\n",
       "      <td>30</td>\n",
       "      <td>100</td>\n",
       "      <td>5</td>\n",
       "    </tr>\n",
       "    <tr>\n",
       "      <th>3</th>\n",
       "      <td>30</td>\n",
       "      <td>100</td>\n",
       "      <td>5</td>\n",
       "    </tr>\n",
       "    <tr>\n",
       "      <th>4</th>\n",
       "      <td>30</td>\n",
       "      <td>100</td>\n",
       "      <td>5</td>\n",
       "    </tr>\n",
       "  </tbody>\n",
       "</table>\n",
       "</div>"
      ],
      "text/plain": [
       "   shoot  meter  MOA\n",
       "0     30    100    5\n",
       "1     30    100    5\n",
       "2     30    100    5\n",
       "3     30    100    5\n",
       "4     30    100    5"
      ]
     },
     "execution_count": 23,
     "metadata": {},
     "output_type": "execute_result"
    }
   ],
   "source": [
    "MOADF.head()"
   ]
  },
  {
   "cell_type": "code",
   "execution_count": 24,
   "id": "023ae333-416e-4cbd-988a-5b242f906d54",
   "metadata": {},
   "outputs": [
    {
     "data": {
      "text/plain": [
       "(270, 3)"
      ]
     },
     "execution_count": 24,
     "metadata": {},
     "output_type": "execute_result"
    }
   ],
   "source": [
    "MOADF.shape"
   ]
  },
  {
   "cell_type": "code",
   "execution_count": 25,
   "id": "f1313f1c-fc00-488f-8cf3-5cde111c846c",
   "metadata": {},
   "outputs": [
    {
     "data": {
      "text/html": [
       "<div>\n",
       "<style scoped>\n",
       "    .dataframe tbody tr th:only-of-type {\n",
       "        vertical-align: middle;\n",
       "    }\n",
       "\n",
       "    .dataframe tbody tr th {\n",
       "        vertical-align: top;\n",
       "    }\n",
       "\n",
       "    .dataframe thead th {\n",
       "        text-align: right;\n",
       "    }\n",
       "</style>\n",
       "<table border=\"1\" class=\"dataframe\">\n",
       "  <thead>\n",
       "    <tr style=\"text-align: right;\">\n",
       "      <th></th>\n",
       "      <th>shoot</th>\n",
       "      <th>meter</th>\n",
       "      <th>MOA</th>\n",
       "    </tr>\n",
       "  </thead>\n",
       "  <tbody>\n",
       "    <tr>\n",
       "      <th>shoot</th>\n",
       "      <td>1.000000</td>\n",
       "      <td>-5.731516e-01</td>\n",
       "      <td>-6.358508e-01</td>\n",
       "    </tr>\n",
       "    <tr>\n",
       "      <th>meter</th>\n",
       "      <td>-0.573152</td>\n",
       "      <td>1.000000e+00</td>\n",
       "      <td>4.986509e-16</td>\n",
       "    </tr>\n",
       "    <tr>\n",
       "      <th>MOA</th>\n",
       "      <td>-0.635851</td>\n",
       "      <td>4.986509e-16</td>\n",
       "      <td>1.000000e+00</td>\n",
       "    </tr>\n",
       "  </tbody>\n",
       "</table>\n",
       "</div>"
      ],
      "text/plain": [
       "          shoot         meter           MOA\n",
       "shoot  1.000000 -5.731516e-01 -6.358508e-01\n",
       "meter -0.573152  1.000000e+00  4.986509e-16\n",
       "MOA   -0.635851  4.986509e-16  1.000000e+00"
      ]
     },
     "execution_count": 25,
     "metadata": {},
     "output_type": "execute_result"
    }
   ],
   "source": [
    "corr = MOADF.corr()\n",
    "corr"
   ]
  },
  {
   "cell_type": "code",
   "execution_count": 26,
   "id": "79906bc2-886c-434e-b92f-0a50d802cc05",
   "metadata": {},
   "outputs": [
    {
     "data": {
      "image/png": "[encoded data removed]",
      "text/plain": [
       "<Figure size 576x576 with 2 Axes>"
      ]
     },
     "metadata": {
      "needs_background": "light"
     },
     "output_type": "display_data"
    }
   ],
   "source": [
    "plt.figure(figsize = (8,8))\n",
    "sns.heatmap(corr, square = True);"
   ]
  },
  {
   "cell_type": "code",
   "execution_count": 27,
   "id": "661d6c39-0b77-4330-818c-dea824128fa6",
   "metadata": {},
   "outputs": [],
   "source": [
    "import numpy as np\n",
    "np.random.seed(42)\n",
    "train = np.random.choice(MOADF.shape[0], int(0.7 * MOADF.shape[0]), replace=False)\n",
    "validation = [i for i in range(MOADF.shape[0]) if i not in train]"
   ]
  },
  {
   "cell_type": "code",
   "execution_count": 28,
   "id": "719f60da-4f9c-41e5-99ae-cb7a904d508f",
   "metadata": {},
   "outputs": [
    {
     "data": {
      "text/plain": [
       "array([ 30, 116,  79, 127, 196, 137, 209,  45, 158, 247, 183, 268, 227,\n",
       "        82, 165, 194, 226, 146, 104,  60, 221, 266,  46,  42, 185,   9,\n",
       "        22, 199, 109,  24, 113,  68, 144, 224, 252,   6, 120,  67, 119,\n",
       "       118,  25, 125, 244,  19,  77, 216,  90, 208,  93, 180,  15, 152,\n",
       "       232, 250, 115,  33, 184, 142, 197,  37,  16,  75, 148,  10, 233,\n",
       "        66, 253, 225, 182,  73,  18, 101, 195, 112, 170,  86,  55,  97,\n",
       "       200,  38, 154,  84, 251,  92, 201, 126, 124,  78, 181, 111, 229,\n",
       "       257, 260, 210, 193, 155,  69,   2,  76, 147, 139, 143,  96, 108,\n",
       "       140, 173, 262,  74, 117,  29, 215, 192, 234, 177, 263,   5,  56,\n",
       "       259, 175, 164,  65, 157,  85, 114, 245, 172,  31,  12,  35,  28,\n",
       "       132,  51,  95, 167, 179,  41, 246, 176, 136,  26, 264, 141, 159,\n",
       "         0, 231, 100, 241, 202,  98,  36,  61, 150, 212, 256,  11, 267,\n",
       "       230,  27, 178,   4, 122,  32, 204, 162, 168, 206, 138,  62, 135,\n",
       "       128, 261, 243,  70, 222,  64,  44, 186, 156,  40, 123, 153,  23,\n",
       "       217, 213,  81,  39, 240,  47,  94])"
      ]
     },
     "execution_count": 28,
     "metadata": {},
     "output_type": "execute_result"
    }
   ],
   "source": [
    "train"
   ]
  },
  {
   "cell_type": "code",
   "execution_count": 29,
   "id": "fcff477c-91df-41d1-99ef-e474e289ad0a",
   "metadata": {},
   "outputs": [
    {
     "data": {
      "text/plain": [
       "[1,\n",
       " 3,\n",
       " 7,\n",
       " 8,\n",
       " 13,\n",
       " 14,\n",
       " 17,\n",
       " 20,\n",
       " 21,\n",
       " 34,\n",
       " 43,\n",
       " 48,\n",
       " 49,\n",
       " 50,\n",
       " 52,\n",
       " 53,\n",
       " 54,\n",
       " 57,\n",
       " 58,\n",
       " 59,\n",
       " 63,\n",
       " 71,\n",
       " 72,\n",
       " 80,\n",
       " 83,\n",
       " 87,\n",
       " 88,\n",
       " 89,\n",
       " 91,\n",
       " 99,\n",
       " 102,\n",
       " 103,\n",
       " 105,\n",
       " 106,\n",
       " 107,\n",
       " 110,\n",
       " 121,\n",
       " 129,\n",
       " 130,\n",
       " 131,\n",
       " 133,\n",
       " 134,\n",
       " 145,\n",
       " 149,\n",
       " 151,\n",
       " 160,\n",
       " 161,\n",
       " 163,\n",
       " 166,\n",
       " 169,\n",
       " 171,\n",
       " 174,\n",
       " 187,\n",
       " 188,\n",
       " 189,\n",
       " 190,\n",
       " 191,\n",
       " 198,\n",
       " 203,\n",
       " 205,\n",
       " 207,\n",
       " 211,\n",
       " 214,\n",
       " 218,\n",
       " 219,\n",
       " 220,\n",
       " 223,\n",
       " 228,\n",
       " 235,\n",
       " 236,\n",
       " 237,\n",
       " 238,\n",
       " 239,\n",
       " 242,\n",
       " 248,\n",
       " 249,\n",
       " 254,\n",
       " 255,\n",
       " 258,\n",
       " 265,\n",
       " 269]"
      ]
     },
     "execution_count": 29,
     "metadata": {},
     "output_type": "execute_result"
    }
   ],
   "source": [
    "validation"
   ]
  },
  {
   "cell_type": "code",
   "execution_count": 38,
   "id": "e4fb13b1-a2dd-4543-82c8-b9030b4a370b",
   "metadata": {},
   "outputs": [],
   "source": [
    "X_train = MOADF.iloc[train, :].drop(columns = ['shoot'])\n",
    "y_train = np.reshape(np.array(MOADF.loc[train, 'shoot']), (-1,1))"
   ]
  },
  {
   "cell_type": "code",
   "execution_count": 39,
   "id": "c1a25ec6-ca93-45c5-8f55-3957d5b6adfc",
   "metadata": {},
   "outputs": [
    {
     "data": {
      "text/html": [
       "<div>\n",
       "<style scoped>\n",
       "    .dataframe tbody tr th:only-of-type {\n",
       "        vertical-align: middle;\n",
       "    }\n",
       "\n",
       "    .dataframe tbody tr th {\n",
       "        vertical-align: top;\n",
       "    }\n",
       "\n",
       "    .dataframe thead th {\n",
       "        text-align: right;\n",
       "    }\n",
       "</style>\n",
       "<table border=\"1\" class=\"dataframe\">\n",
       "  <thead>\n",
       "    <tr style=\"text-align: right;\">\n",
       "      <th></th>\n",
       "      <th>meter</th>\n",
       "      <th>MOA</th>\n",
       "    </tr>\n",
       "  </thead>\n",
       "  <tbody>\n",
       "    <tr>\n",
       "      <th>30</th>\n",
       "      <td>200</td>\n",
       "      <td>5</td>\n",
       "    </tr>\n",
       "    <tr>\n",
       "      <th>116</th>\n",
       "      <td>100</td>\n",
       "      <td>10</td>\n",
       "    </tr>\n",
       "    <tr>\n",
       "      <th>79</th>\n",
       "      <td>250</td>\n",
       "      <td>5</td>\n",
       "    </tr>\n",
       "    <tr>\n",
       "      <th>127</th>\n",
       "      <td>200</td>\n",
       "      <td>10</td>\n",
       "    </tr>\n",
       "    <tr>\n",
       "      <th>196</th>\n",
       "      <td>100</td>\n",
       "      <td>15</td>\n",
       "    </tr>\n",
       "    <tr>\n",
       "      <th>...</th>\n",
       "      <td>...</td>\n",
       "      <td>...</td>\n",
       "    </tr>\n",
       "    <tr>\n",
       "      <th>81</th>\n",
       "      <td>250</td>\n",
       "      <td>5</td>\n",
       "    </tr>\n",
       "    <tr>\n",
       "      <th>39</th>\n",
       "      <td>200</td>\n",
       "      <td>5</td>\n",
       "    </tr>\n",
       "    <tr>\n",
       "      <th>240</th>\n",
       "      <td>250</td>\n",
       "      <td>15</td>\n",
       "    </tr>\n",
       "    <tr>\n",
       "      <th>47</th>\n",
       "      <td>200</td>\n",
       "      <td>5</td>\n",
       "    </tr>\n",
       "    <tr>\n",
       "      <th>94</th>\n",
       "      <td>100</td>\n",
       "      <td>10</td>\n",
       "    </tr>\n",
       "  </tbody>\n",
       "</table>\n",
       "<p>189 rows × 2 columns</p>\n",
       "</div>"
      ],
      "text/plain": [
       "     meter  MOA\n",
       "30     200    5\n",
       "116    100   10\n",
       "79     250    5\n",
       "127    200   10\n",
       "196    100   15\n",
       "..     ...  ...\n",
       "81     250    5\n",
       "39     200    5\n",
       "240    250   15\n",
       "47     200    5\n",
       "94     100   10\n",
       "\n",
       "[189 rows x 2 columns]"
      ]
     },
     "execution_count": 39,
     "metadata": {},
     "output_type": "execute_result"
    }
   ],
   "source": [
    "X_train"
   ]
  },
  {
   "cell_type": "code",
   "execution_count": 40,
   "id": "6ff83eb8-a321-4d92-9871-e5b23771c4dd",
   "metadata": {},
   "outputs": [
    {
     "data": {
      "text/plain": [
       "array([[30],\n",
       "       [30],\n",
       "       [30],\n",
       "       [27],\n",
       "       [30],\n",
       "       [27],\n",
       "       [30],\n",
       "       [30],\n",
       "       [21],\n",
       "       [14],\n",
       "       [30],\n",
       "       [13],\n",
       "       [21],\n",
       "       [30],\n",
       "       [24],\n",
       "       [30],\n",
       "       [20],\n",
       "       [27],\n",
       "       [30],\n",
       "       [30],\n",
       "       [20],\n",
       "       [14],\n",
       "       [30],\n",
       "       [30],\n",
       "       [30],\n",
       "       [30],\n",
       "       [30],\n",
       "       [30],\n",
       "       [30],\n",
       "       [30],\n",
       "       [30],\n",
       "       [30],\n",
       "       [26],\n",
       "       [19],\n",
       "       [15],\n",
       "       [30],\n",
       "       [29],\n",
       "       [30],\n",
       "       [30],\n",
       "       [30],\n",
       "       [30],\n",
       "       [27],\n",
       "       [15],\n",
       "       [30],\n",
       "       [30],\n",
       "       [20],\n",
       "       [30],\n",
       "       [30],\n",
       "       [30],\n",
       "       [30],\n",
       "       [30],\n",
       "       [23],\n",
       "       [22],\n",
       "       [12],\n",
       "       [30],\n",
       "       [30],\n",
       "       [30],\n",
       "       [26],\n",
       "       [30],\n",
       "       [30],\n",
       "       [30],\n",
       "       [30],\n",
       "       [25],\n",
       "       [30],\n",
       "       [20],\n",
       "       [30],\n",
       "       [12],\n",
       "       [22],\n",
       "       [30],\n",
       "       [30],\n",
       "       [30],\n",
       "       [30],\n",
       "       [30],\n",
       "       [30],\n",
       "       [23],\n",
       "       [30],\n",
       "       [30],\n",
       "       [30],\n",
       "       [30],\n",
       "       [30],\n",
       "       [22],\n",
       "       [30],\n",
       "       [14],\n",
       "       [30],\n",
       "       [30],\n",
       "       [25],\n",
       "       [27],\n",
       "       [30],\n",
       "       [29],\n",
       "       [30],\n",
       "       [19],\n",
       "       [15],\n",
       "       [14],\n",
       "       [19],\n",
       "       [30],\n",
       "       [24],\n",
       "       [30],\n",
       "       [30],\n",
       "       [30],\n",
       "       [30],\n",
       "       [26],\n",
       "       [27],\n",
       "       [30],\n",
       "       [30],\n",
       "       [27],\n",
       "       [23],\n",
       "       [16],\n",
       "       [30],\n",
       "       [30],\n",
       "       [30],\n",
       "       [21],\n",
       "       [29],\n",
       "       [19],\n",
       "       [18],\n",
       "       [14],\n",
       "       [30],\n",
       "       [30],\n",
       "       [15],\n",
       "       [21],\n",
       "       [21],\n",
       "       [30],\n",
       "       [21],\n",
       "       [30],\n",
       "       [30],\n",
       "       [14],\n",
       "       [24],\n",
       "       [30],\n",
       "       [30],\n",
       "       [30],\n",
       "       [30],\n",
       "       [27],\n",
       "       [30],\n",
       "       [30],\n",
       "       [23],\n",
       "       [22],\n",
       "       [30],\n",
       "       [11],\n",
       "       [23],\n",
       "       [29],\n",
       "       [30],\n",
       "       [12],\n",
       "       [29],\n",
       "       [18],\n",
       "       [30],\n",
       "       [18],\n",
       "       [30],\n",
       "       [13],\n",
       "       [30],\n",
       "       [30],\n",
       "       [30],\n",
       "       [30],\n",
       "       [21],\n",
       "       [21],\n",
       "       [14],\n",
       "       [30],\n",
       "       [13],\n",
       "       [21],\n",
       "       [30],\n",
       "       [21],\n",
       "       [30],\n",
       "       [28],\n",
       "       [30],\n",
       "       [30],\n",
       "       [21],\n",
       "       [21],\n",
       "       [30],\n",
       "       [27],\n",
       "       [30],\n",
       "       [26],\n",
       "       [27],\n",
       "       [16],\n",
       "       [14],\n",
       "       [30],\n",
       "       [19],\n",
       "       [30],\n",
       "       [30],\n",
       "       [30],\n",
       "       [22],\n",
       "       [30],\n",
       "       [25],\n",
       "       [21],\n",
       "       [30],\n",
       "       [19],\n",
       "       [19],\n",
       "       [30],\n",
       "       [30],\n",
       "       [14],\n",
       "       [30],\n",
       "       [30]], dtype=int64)"
      ]
     },
     "execution_count": 40,
     "metadata": {},
     "output_type": "execute_result"
    }
   ],
   "source": [
    "y_train"
   ]
  },
  {
   "cell_type": "code",
   "execution_count": 41,
   "id": "6d43e826-b3d6-4f99-aea7-9cac689d5f7c",
   "metadata": {},
   "outputs": [],
   "source": [
    "lin_model = LinearRegression()\n"
   ]
  },
  {
   "cell_type": "code",
   "execution_count": 42,
   "id": "8f2c084b-9041-4da2-9395-03f3bb54533a",
   "metadata": {},
   "outputs": [],
   "source": [
    "\n",
    "my_model = lin_model.fit(X_train, y_train)\n"
   ]
  },
  {
   "cell_type": "code",
   "execution_count": 43,
   "id": "e23465d6-32b3-4b44-8e6d-d72081345a7a",
   "metadata": {},
   "outputs": [
    {
     "name": "stdout",
     "output_type": "stream",
     "text": [
      "R2 score is  0.7281134265182319\n",
      "model coefficients:\n",
      " [[-0.05261663 -0.88463488]] \n",
      "intercept:  [44.31922708]\n"
     ]
    }
   ],
   "source": [
    "print('R2 score is ', my_model.score(X_train, y_train))\n",
    "print('model coefficients:\\n', my_model.coef_, '\\nintercept: ',my_model.intercept_)"
   ]
  },
  {
   "cell_type": "code",
   "execution_count": 44,
   "id": "047f5883-0e7d-4810-88a1-8ac0053b6750",
   "metadata": {},
   "outputs": [
    {
     "name": "stdout",
     "output_type": "stream",
     "text": [
      "the root mean square error is  2.977287968133936\n"
     ]
    }
   ],
   "source": [
    "from sklearn.metrics import mean_squared_error\n",
    "RMSE = mean_squared_error(y_train, my_model.predict(X_train), squared =False)\n",
    "print('the root mean square error is ', RMSE)"
   ]
  },
  {
   "cell_type": "code",
   "execution_count": 48,
   "id": "e1354607-4276-4349-9e5c-ccc649f29a10",
   "metadata": {},
   "outputs": [
    {
     "name": "stdout",
     "output_type": "stream",
     "text": [
      "the validation RMSE is  3.0301670741506546\n"
     ]
    }
   ],
   "source": [
    "oos = validation\n",
    "X_val = MOADF.iloc[oos, :].drop(columns = ['shoot'])\n",
    "y_val = MOADF.loc[oos, 'shoot']\n",
    "val_pred = my_model.predict(X_val)\n",
    "val_RMSE = mean_squared_error(val_pred, y_val, squared = False)\n",
    "print('the validation RMSE is ', val_RMSE)"
   ]
  },
  {
   "cell_type": "code",
   "execution_count": 49,
   "id": "e8e55233-5dcb-454f-acf2-e427901433ee",
   "metadata": {},
   "outputs": [
    {
     "name": "stdout",
     "output_type": "stream",
     "text": [
      "R2 score is  0.7406938305689212\n"
     ]
    }
   ],
   "source": [
    "r2_score = my_model.score(X_val, y_val)\n",
    "print('R2 score is ', r2_score)"
   ]
  },
  {
   "cell_type": "code",
   "execution_count": 52,
   "id": "20901c7c-d864-426f-8a31-2491327a5281",
   "metadata": {},
   "outputs": [],
   "source": [
    "X = MOADF[['meter', 'MOA']]\n",
    "y = MOADF['shoot']"
   ]
  },
  {
   "cell_type": "code",
   "execution_count": 54,
   "id": "f8b117d0-fc8e-422d-8a4f-f276385f647b",
   "metadata": {},
   "outputs": [
    {
     "data": {
      "text/html": [
       "<div>\n",
       "<style scoped>\n",
       "    .dataframe tbody tr th:only-of-type {\n",
       "        vertical-align: middle;\n",
       "    }\n",
       "\n",
       "    .dataframe tbody tr th {\n",
       "        vertical-align: top;\n",
       "    }\n",
       "\n",
       "    .dataframe thead th {\n",
       "        text-align: right;\n",
       "    }\n",
       "</style>\n",
       "<table border=\"1\" class=\"dataframe\">\n",
       "  <thead>\n",
       "    <tr style=\"text-align: right;\">\n",
       "      <th></th>\n",
       "      <th>meter</th>\n",
       "      <th>MOA</th>\n",
       "    </tr>\n",
       "  </thead>\n",
       "  <tbody>\n",
       "    <tr>\n",
       "      <th>0</th>\n",
       "      <td>100</td>\n",
       "      <td>5</td>\n",
       "    </tr>\n",
       "    <tr>\n",
       "      <th>1</th>\n",
       "      <td>100</td>\n",
       "      <td>5</td>\n",
       "    </tr>\n",
       "    <tr>\n",
       "      <th>2</th>\n",
       "      <td>100</td>\n",
       "      <td>5</td>\n",
       "    </tr>\n",
       "    <tr>\n",
       "      <th>3</th>\n",
       "      <td>100</td>\n",
       "      <td>5</td>\n",
       "    </tr>\n",
       "    <tr>\n",
       "      <th>4</th>\n",
       "      <td>100</td>\n",
       "      <td>5</td>\n",
       "    </tr>\n",
       "    <tr>\n",
       "      <th>...</th>\n",
       "      <td>...</td>\n",
       "      <td>...</td>\n",
       "    </tr>\n",
       "    <tr>\n",
       "      <th>265</th>\n",
       "      <td>250</td>\n",
       "      <td>15</td>\n",
       "    </tr>\n",
       "    <tr>\n",
       "      <th>266</th>\n",
       "      <td>250</td>\n",
       "      <td>15</td>\n",
       "    </tr>\n",
       "    <tr>\n",
       "      <th>267</th>\n",
       "      <td>250</td>\n",
       "      <td>15</td>\n",
       "    </tr>\n",
       "    <tr>\n",
       "      <th>268</th>\n",
       "      <td>250</td>\n",
       "      <td>15</td>\n",
       "    </tr>\n",
       "    <tr>\n",
       "      <th>269</th>\n",
       "      <td>250</td>\n",
       "      <td>15</td>\n",
       "    </tr>\n",
       "  </tbody>\n",
       "</table>\n",
       "<p>270 rows × 2 columns</p>\n",
       "</div>"
      ],
      "text/plain": [
       "     meter  MOA\n",
       "0      100    5\n",
       "1      100    5\n",
       "2      100    5\n",
       "3      100    5\n",
       "4      100    5\n",
       "..     ...  ...\n",
       "265    250   15\n",
       "266    250   15\n",
       "267    250   15\n",
       "268    250   15\n",
       "269    250   15\n",
       "\n",
       "[270 rows x 2 columns]"
      ]
     },
     "execution_count": 54,
     "metadata": {},
     "output_type": "execute_result"
    }
   ],
   "source": [
    "X"
   ]
  },
  {
   "cell_type": "code",
   "execution_count": 55,
   "id": "21a157bc-28b9-474e-a1a5-7e1ac3956d29",
   "metadata": {},
   "outputs": [
    {
     "data": {
      "text/plain": [
       "pandas.core.series.Series"
      ]
     },
     "execution_count": 55,
     "metadata": {},
     "output_type": "execute_result"
    }
   ],
   "source": [
    "type(y)"
   ]
  },
  {
   "cell_type": "code",
   "execution_count": 56,
   "id": "61fd9028-e5a0-4c0a-ae68-c5c3eadd6a55",
   "metadata": {},
   "outputs": [],
   "source": [
    "from sklearn.model_selection import train_test_split\n",
    "X_train, X_valid, y_train, y_valid = train_test_split(X, y, \\\n",
    "                                                    test_size=0.3, random_state=42, shuffle=True)"
   ]
  },
  {
   "cell_type": "code",
   "execution_count": 58,
   "id": "17233d6b-b1e5-4a68-ba51-0707fda6f768",
   "metadata": {},
   "outputs": [
    {
     "data": {
      "text/html": [
       "<div>\n",
       "<style scoped>\n",
       "    .dataframe tbody tr th:only-of-type {\n",
       "        vertical-align: middle;\n",
       "    }\n",
       "\n",
       "    .dataframe tbody tr th {\n",
       "        vertical-align: top;\n",
       "    }\n",
       "\n",
       "    .dataframe thead th {\n",
       "        text-align: right;\n",
       "    }\n",
       "</style>\n",
       "<table border=\"1\" class=\"dataframe\">\n",
       "  <thead>\n",
       "    <tr style=\"text-align: right;\">\n",
       "      <th></th>\n",
       "      <th>meter</th>\n",
       "      <th>MOA</th>\n",
       "    </tr>\n",
       "  </thead>\n",
       "  <tbody>\n",
       "    <tr>\n",
       "      <th>84</th>\n",
       "      <td>250</td>\n",
       "      <td>5</td>\n",
       "    </tr>\n",
       "    <tr>\n",
       "      <th>251</th>\n",
       "      <td>250</td>\n",
       "      <td>15</td>\n",
       "    </tr>\n",
       "    <tr>\n",
       "      <th>92</th>\n",
       "      <td>100</td>\n",
       "      <td>10</td>\n",
       "    </tr>\n",
       "    <tr>\n",
       "      <th>201</th>\n",
       "      <td>100</td>\n",
       "      <td>15</td>\n",
       "    </tr>\n",
       "    <tr>\n",
       "      <th>126</th>\n",
       "      <td>200</td>\n",
       "      <td>10</td>\n",
       "    </tr>\n",
       "    <tr>\n",
       "      <th>...</th>\n",
       "      <td>...</td>\n",
       "      <td>...</td>\n",
       "    </tr>\n",
       "    <tr>\n",
       "      <th>20</th>\n",
       "      <td>100</td>\n",
       "      <td>5</td>\n",
       "    </tr>\n",
       "    <tr>\n",
       "      <th>188</th>\n",
       "      <td>100</td>\n",
       "      <td>15</td>\n",
       "    </tr>\n",
       "    <tr>\n",
       "      <th>71</th>\n",
       "      <td>250</td>\n",
       "      <td>5</td>\n",
       "    </tr>\n",
       "    <tr>\n",
       "      <th>106</th>\n",
       "      <td>100</td>\n",
       "      <td>10</td>\n",
       "    </tr>\n",
       "    <tr>\n",
       "      <th>102</th>\n",
       "      <td>100</td>\n",
       "      <td>10</td>\n",
       "    </tr>\n",
       "  </tbody>\n",
       "</table>\n",
       "<p>189 rows × 2 columns</p>\n",
       "</div>"
      ],
      "text/plain": [
       "     meter  MOA\n",
       "84     250    5\n",
       "251    250   15\n",
       "92     100   10\n",
       "201    100   15\n",
       "126    200   10\n",
       "..     ...  ...\n",
       "20     100    5\n",
       "188    100   15\n",
       "71     250    5\n",
       "106    100   10\n",
       "102    100   10\n",
       "\n",
       "[189 rows x 2 columns]"
      ]
     },
     "execution_count": 58,
     "metadata": {},
     "output_type": "execute_result"
    }
   ],
   "source": [
    "X_train"
   ]
  },
  {
   "cell_type": "code",
   "execution_count": 59,
   "id": "cf089869-3ea9-4eda-8122-f636894d3dc7",
   "metadata": {},
   "outputs": [
    {
     "name": "stdout",
     "output_type": "stream",
     "text": [
      "R2 score is  0.7298500277483695\n",
      "model coefficients:\n",
      " [-0.05287514 -0.96162288] \n",
      "intercept:  44.841850761634944\n"
     ]
    }
   ],
   "source": [
    "lin_model = LinearRegression()\n",
    "my_model = lin_model.fit(X_train, y_train)\n",
    "print('R2 score is ', my_model.score(X, y))\n",
    "print('model coefficients:\\n', my_model.coef_, '\\nintercept: ',my_model.intercept_)"
   ]
  },
  {
   "cell_type": "code",
   "execution_count": 60,
   "id": "a1199a95-7846-4a3b-ae75-61f22d4f48b3",
   "metadata": {},
   "outputs": [
    {
     "name": "stdout",
     "output_type": "stream",
     "text": [
      "the root mean square error is  3.0071146543537344\n"
     ]
    }
   ],
   "source": [
    "from sklearn.metrics import mean_squared_error\n",
    "RMSE = mean_squared_error(y, my_model.predict(X), squared =False)\n",
    "print('the root mean square error is ', RMSE)"
   ]
  },
  {
   "cell_type": "code",
   "execution_count": 84,
   "id": "29706cf1-cc8e-420f-ae13-39b13427ee74",
   "metadata": {},
   "outputs": [
    {
     "data": {
      "text/html": [
       "<div>\n",
       "<style scoped>\n",
       "    .dataframe tbody tr th:only-of-type {\n",
       "        vertical-align: middle;\n",
       "    }\n",
       "\n",
       "    .dataframe tbody tr th {\n",
       "        vertical-align: top;\n",
       "    }\n",
       "\n",
       "    .dataframe thead th {\n",
       "        text-align: right;\n",
       "    }\n",
       "</style>\n",
       "<table border=\"1\" class=\"dataframe\">\n",
       "  <thead>\n",
       "    <tr style=\"text-align: right;\">\n",
       "      <th></th>\n",
       "      <th>shoot</th>\n",
       "      <th>meter</th>\n",
       "      <th>MOA</th>\n",
       "    </tr>\n",
       "  </thead>\n",
       "  <tbody>\n",
       "    <tr>\n",
       "      <th>0</th>\n",
       "      <td>30</td>\n",
       "      <td>100</td>\n",
       "      <td>5</td>\n",
       "    </tr>\n",
       "    <tr>\n",
       "      <th>1</th>\n",
       "      <td>30</td>\n",
       "      <td>100</td>\n",
       "      <td>5</td>\n",
       "    </tr>\n",
       "    <tr>\n",
       "      <th>2</th>\n",
       "      <td>30</td>\n",
       "      <td>100</td>\n",
       "      <td>5</td>\n",
       "    </tr>\n",
       "    <tr>\n",
       "      <th>3</th>\n",
       "      <td>30</td>\n",
       "      <td>100</td>\n",
       "      <td>5</td>\n",
       "    </tr>\n",
       "    <tr>\n",
       "      <th>4</th>\n",
       "      <td>30</td>\n",
       "      <td>100</td>\n",
       "      <td>5</td>\n",
       "    </tr>\n",
       "  </tbody>\n",
       "</table>\n",
       "</div>"
      ],
      "text/plain": [
       "   shoot  meter  MOA\n",
       "0     30    100    5\n",
       "1     30    100    5\n",
       "2     30    100    5\n",
       "3     30    100    5\n",
       "4     30    100    5"
      ]
     },
     "execution_count": 84,
     "metadata": {},
     "output_type": "execute_result"
    }
   ],
   "source": [
    "MOADF.head()"
   ]
  },
  {
   "cell_type": "code",
   "execution_count": 90,
   "id": "690ed601-c032-42f4-95f8-e9ed221a3252",
   "metadata": {},
   "outputs": [
    {
     "name": "stdout",
     "output_type": "stream",
     "text": [
      "var\t coef\t\t\t range\n",
      "meter \t -0.05288 \twith range  150.0\n"
     ]
    }
   ],
   "source": [
    "print('var\\t coef\\t\\t\\t range')\n",
    "for coef, var in enumerate(MOADF.columns[1:-1]):\n",
    "    print(var, '\\t', round(my_model.coef_[coef], 5),\\\n",
    "          '\\twith range ', round(float(MOADF[var].max() - MOADF[var].min()), 2))"
   ]
  },
  {
   "cell_type": "code",
   "execution_count": 88,
   "id": "d47f9514-8def-462b-862c-210fd18c812e",
   "metadata": {},
   "outputs": [
    {
     "data": {
      "text/html": [
       "<div>\n",
       "<style scoped>\n",
       "    .dataframe tbody tr th:only-of-type {\n",
       "        vertical-align: middle;\n",
       "    }\n",
       "\n",
       "    .dataframe tbody tr th {\n",
       "        vertical-align: top;\n",
       "    }\n",
       "\n",
       "    .dataframe thead th {\n",
       "        text-align: right;\n",
       "    }\n",
       "</style>\n",
       "<table border=\"1\" class=\"dataframe\">\n",
       "  <thead>\n",
       "    <tr style=\"text-align: right;\">\n",
       "      <th></th>\n",
       "      <th>meter</th>\n",
       "    </tr>\n",
       "  </thead>\n",
       "  <tbody>\n",
       "    <tr>\n",
       "      <th>30</th>\n",
       "      <td>200</td>\n",
       "    </tr>\n",
       "    <tr>\n",
       "      <th>116</th>\n",
       "      <td>100</td>\n",
       "    </tr>\n",
       "    <tr>\n",
       "      <th>79</th>\n",
       "      <td>250</td>\n",
       "    </tr>\n",
       "    <tr>\n",
       "      <th>127</th>\n",
       "      <td>200</td>\n",
       "    </tr>\n",
       "    <tr>\n",
       "      <th>196</th>\n",
       "      <td>100</td>\n",
       "    </tr>\n",
       "    <tr>\n",
       "      <th>...</th>\n",
       "      <td>...</td>\n",
       "    </tr>\n",
       "    <tr>\n",
       "      <th>81</th>\n",
       "      <td>250</td>\n",
       "    </tr>\n",
       "    <tr>\n",
       "      <th>39</th>\n",
       "      <td>200</td>\n",
       "    </tr>\n",
       "    <tr>\n",
       "      <th>240</th>\n",
       "      <td>250</td>\n",
       "    </tr>\n",
       "    <tr>\n",
       "      <th>47</th>\n",
       "      <td>200</td>\n",
       "    </tr>\n",
       "    <tr>\n",
       "      <th>94</th>\n",
       "      <td>100</td>\n",
       "    </tr>\n",
       "  </tbody>\n",
       "</table>\n",
       "<p>189 rows × 1 columns</p>\n",
       "</div>"
      ],
      "text/plain": [
       "     meter\n",
       "30     200\n",
       "116    100\n",
       "79     250\n",
       "127    200\n",
       "196    100\n",
       "..     ...\n",
       "81     250\n",
       "39     200\n",
       "240    250\n",
       "47     200\n",
       "94     100\n",
       "\n",
       "[189 rows x 1 columns]"
      ]
     },
     "execution_count": 88,
     "metadata": {},
     "output_type": "execute_result"
    }
   ],
   "source": [
    "scales = dict()\n",
    "X = MOADF.iloc[train, 1:-1]\n",
    "X"
   ]
  },
  {
   "cell_type": "code",
   "execution_count": 65,
   "id": "c5623144-0928-4a7d-9a32-8c297bc32b82",
   "metadata": {},
   "outputs": [
    {
     "data": {
      "text/plain": [
       "30     30\n",
       "116    30\n",
       "79     30\n",
       "127    27\n",
       "196    30\n",
       "       ..\n",
       "81     30\n",
       "39     30\n",
       "240    14\n",
       "47     30\n",
       "94     30\n",
       "Name: shoot, Length: 189, dtype: int64"
      ]
     },
     "execution_count": 65,
     "metadata": {},
     "output_type": "execute_result"
    }
   ],
   "source": [
    "y = MOADF.loc[train, 'shoot']\n",
    "y"
   ]
  },
  {
   "cell_type": "code",
   "execution_count": 66,
   "id": "a164c84e-cadf-46a7-8b4e-b3324862b00c",
   "metadata": {},
   "outputs": [
    {
     "data": {
      "text/html": [
       "<div>\n",
       "<style scoped>\n",
       "    .dataframe tbody tr th:only-of-type {\n",
       "        vertical-align: middle;\n",
       "    }\n",
       "\n",
       "    .dataframe tbody tr th {\n",
       "        vertical-align: top;\n",
       "    }\n",
       "\n",
       "    .dataframe thead th {\n",
       "        text-align: right;\n",
       "    }\n",
       "</style>\n",
       "<table border=\"1\" class=\"dataframe\">\n",
       "  <thead>\n",
       "    <tr style=\"text-align: right;\">\n",
       "      <th></th>\n",
       "      <th>meter</th>\n",
       "    </tr>\n",
       "  </thead>\n",
       "  <tbody>\n",
       "    <tr>\n",
       "      <th>30</th>\n",
       "      <td>0.666667</td>\n",
       "    </tr>\n",
       "    <tr>\n",
       "      <th>116</th>\n",
       "      <td>0.000000</td>\n",
       "    </tr>\n",
       "    <tr>\n",
       "      <th>79</th>\n",
       "      <td>1.000000</td>\n",
       "    </tr>\n",
       "    <tr>\n",
       "      <th>127</th>\n",
       "      <td>0.666667</td>\n",
       "    </tr>\n",
       "    <tr>\n",
       "      <th>196</th>\n",
       "      <td>0.000000</td>\n",
       "    </tr>\n",
       "    <tr>\n",
       "      <th>...</th>\n",
       "      <td>...</td>\n",
       "    </tr>\n",
       "    <tr>\n",
       "      <th>81</th>\n",
       "      <td>1.000000</td>\n",
       "    </tr>\n",
       "    <tr>\n",
       "      <th>39</th>\n",
       "      <td>0.666667</td>\n",
       "    </tr>\n",
       "    <tr>\n",
       "      <th>240</th>\n",
       "      <td>1.000000</td>\n",
       "    </tr>\n",
       "    <tr>\n",
       "      <th>47</th>\n",
       "      <td>0.666667</td>\n",
       "    </tr>\n",
       "    <tr>\n",
       "      <th>94</th>\n",
       "      <td>0.000000</td>\n",
       "    </tr>\n",
       "  </tbody>\n",
       "</table>\n",
       "<p>189 rows × 1 columns</p>\n",
       "</div>"
      ],
      "text/plain": [
       "        meter\n",
       "30   0.666667\n",
       "116  0.000000\n",
       "79   1.000000\n",
       "127  0.666667\n",
       "196  0.000000\n",
       "..        ...\n",
       "81   1.000000\n",
       "39   0.666667\n",
       "240  1.000000\n",
       "47   0.666667\n",
       "94   0.000000\n",
       "\n",
       "[189 rows x 1 columns]"
      ]
     },
     "execution_count": 66,
     "metadata": {},
     "output_type": "execute_result"
    }
   ],
   "source": [
    "for col in MOADF.columns[1:-1]:\n",
    "    min = MOADF[col].min()\n",
    "    max = MOADF[col].max()\n",
    "    range = max - min\n",
    "    scales.update({col : dict({'Xmin' : min, 'Xmax' : max, 'Xrange' : range})})\n",
    "    X[col] = (MOADF[col] - min) / range\n",
    "X"
   ]
  },
  {
   "cell_type": "code",
   "execution_count": 67,
   "id": "fb144441-a037-492f-9f97-e0dd47c28007",
   "metadata": {},
   "outputs": [
    {
     "name": "stdout",
     "output_type": "stream",
     "text": [
      "       Xmax  Xmin  Xrange\n",
      "meter   250   100     150\n"
     ]
    },
    {
     "data": {
      "text/html": [
       "<div>\n",
       "<style scoped>\n",
       "    .dataframe tbody tr th:only-of-type {\n",
       "        vertical-align: middle;\n",
       "    }\n",
       "\n",
       "    .dataframe tbody tr th {\n",
       "        vertical-align: top;\n",
       "    }\n",
       "\n",
       "    .dataframe thead th {\n",
       "        text-align: right;\n",
       "    }\n",
       "</style>\n",
       "<table border=\"1\" class=\"dataframe\">\n",
       "  <thead>\n",
       "    <tr style=\"text-align: right;\">\n",
       "      <th></th>\n",
       "      <th>count</th>\n",
       "      <th>mean</th>\n",
       "      <th>std</th>\n",
       "      <th>min</th>\n",
       "      <th>25%</th>\n",
       "      <th>50%</th>\n",
       "      <th>75%</th>\n",
       "      <th>max</th>\n",
       "    </tr>\n",
       "  </thead>\n",
       "  <tbody>\n",
       "    <tr>\n",
       "      <th>meter</th>\n",
       "      <td>189.0</td>\n",
       "      <td>0.557319</td>\n",
       "      <td>0.42224</td>\n",
       "      <td>0.0</td>\n",
       "      <td>0.0</td>\n",
       "      <td>0.666667</td>\n",
       "      <td>1.0</td>\n",
       "      <td>1.0</td>\n",
       "    </tr>\n",
       "  </tbody>\n",
       "</table>\n",
       "</div>"
      ],
      "text/plain": [
       "       count      mean      std  min  25%       50%  75%  max\n",
       "meter  189.0  0.557319  0.42224  0.0  0.0  0.666667  1.0  1.0"
      ]
     },
     "execution_count": 67,
     "metadata": {},
     "output_type": "execute_result"
    }
   ],
   "source": [
    "scales = pd.DataFrame.from_dict(scales).T\n",
    "print(scales)\n",
    "X.describe().T"
   ]
  },
  {
   "cell_type": "code",
   "execution_count": 68,
   "id": "ed8468de-5937-4ecd-96e4-3c07501267f5",
   "metadata": {},
   "outputs": [],
   "source": [
    "from sklearn.preprocessing import MinMaxScaler\n",
    "scaler = MinMaxScaler()"
   ]
  },
  {
   "cell_type": "code",
   "execution_count": 69,
   "id": "85a086be-3667-4acf-91c3-6f9a7b11a552",
   "metadata": {},
   "outputs": [
    {
     "data": {
      "text/plain": [
       "array([[0.66666667],\n",
       "       [0.        ],\n",
       "       [1.        ],\n",
       "       [0.66666667],\n",
       "       [0.        ],\n",
       "       [0.66666667],\n",
       "       [0.        ],\n",
       "       [0.66666667],\n",
       "       [1.        ],\n",
       "       [1.        ],\n",
       "       [0.        ],\n",
       "       [1.        ],\n",
       "       [0.66666667],\n",
       "       [1.        ],\n",
       "       [1.        ],\n",
       "       [0.        ],\n",
       "       [0.66666667],\n",
       "       [0.66666667],\n",
       "       [0.        ],\n",
       "       [1.        ],\n",
       "       [0.66666667],\n",
       "       [1.        ],\n",
       "       [0.66666667],\n",
       "       [0.66666667],\n",
       "       [0.        ],\n",
       "       [0.        ],\n",
       "       [0.        ],\n",
       "       [0.        ],\n",
       "       [0.        ],\n",
       "       [0.        ],\n",
       "       [0.        ],\n",
       "       [1.        ],\n",
       "       [0.66666667],\n",
       "       [0.66666667],\n",
       "       [1.        ],\n",
       "       [0.        ],\n",
       "       [0.66666667],\n",
       "       [1.        ],\n",
       "       [0.        ],\n",
       "       [0.        ],\n",
       "       [0.        ],\n",
       "       [0.66666667],\n",
       "       [1.        ],\n",
       "       [0.        ],\n",
       "       [1.        ],\n",
       "       [0.66666667],\n",
       "       [0.        ],\n",
       "       [0.        ],\n",
       "       [0.        ],\n",
       "       [0.        ],\n",
       "       [0.        ],\n",
       "       [1.        ],\n",
       "       [0.66666667],\n",
       "       [1.        ],\n",
       "       [0.        ],\n",
       "       [0.66666667],\n",
       "       [0.        ],\n",
       "       [0.66666667],\n",
       "       [0.        ],\n",
       "       [0.66666667],\n",
       "       [0.        ],\n",
       "       [1.        ],\n",
       "       [0.66666667],\n",
       "       [0.        ],\n",
       "       [0.66666667],\n",
       "       [1.        ],\n",
       "       [1.        ],\n",
       "       [0.66666667],\n",
       "       [0.        ],\n",
       "       [1.        ],\n",
       "       [0.        ],\n",
       "       [0.        ],\n",
       "       [0.        ],\n",
       "       [0.        ],\n",
       "       [1.        ],\n",
       "       [1.        ],\n",
       "       [0.66666667],\n",
       "       [0.        ],\n",
       "       [0.        ],\n",
       "       [0.66666667],\n",
       "       [1.        ],\n",
       "       [1.        ],\n",
       "       [1.        ],\n",
       "       [0.        ],\n",
       "       [0.        ],\n",
       "       [0.66666667],\n",
       "       [0.66666667],\n",
       "       [1.        ],\n",
       "       [0.        ],\n",
       "       [0.        ],\n",
       "       [0.66666667],\n",
       "       [1.        ],\n",
       "       [1.        ],\n",
       "       [0.66666667],\n",
       "       [0.        ],\n",
       "       [1.        ],\n",
       "       [1.        ],\n",
       "       [0.        ],\n",
       "       [1.        ],\n",
       "       [0.66666667],\n",
       "       [0.66666667],\n",
       "       [0.66666667],\n",
       "       [0.        ],\n",
       "       [0.        ],\n",
       "       [0.66666667],\n",
       "       [1.        ],\n",
       "       [1.        ],\n",
       "       [1.        ],\n",
       "       [0.        ],\n",
       "       [0.        ],\n",
       "       [0.66666667],\n",
       "       [0.        ],\n",
       "       [0.66666667],\n",
       "       [1.        ],\n",
       "       [1.        ],\n",
       "       [0.        ],\n",
       "       [0.66666667],\n",
       "       [1.        ],\n",
       "       [1.        ],\n",
       "       [1.        ],\n",
       "       [1.        ],\n",
       "       [1.        ],\n",
       "       [1.        ],\n",
       "       [0.        ],\n",
       "       [1.        ],\n",
       "       [1.        ],\n",
       "       [0.66666667],\n",
       "       [0.        ],\n",
       "       [0.66666667],\n",
       "       [0.        ],\n",
       "       [0.66666667],\n",
       "       [0.66666667],\n",
       "       [0.        ],\n",
       "       [1.        ],\n",
       "       [1.        ],\n",
       "       [0.66666667],\n",
       "       [1.        ],\n",
       "       [1.        ],\n",
       "       [0.66666667],\n",
       "       [0.        ],\n",
       "       [1.        ],\n",
       "       [0.66666667],\n",
       "       [1.        ],\n",
       "       [0.        ],\n",
       "       [0.66666667],\n",
       "       [0.        ],\n",
       "       [1.        ],\n",
       "       [0.        ],\n",
       "       [0.        ],\n",
       "       [0.66666667],\n",
       "       [1.        ],\n",
       "       [1.        ],\n",
       "       [0.66666667],\n",
       "       [1.        ],\n",
       "       [0.        ],\n",
       "       [1.        ],\n",
       "       [0.66666667],\n",
       "       [0.        ],\n",
       "       [1.        ],\n",
       "       [0.        ],\n",
       "       [0.66666667],\n",
       "       [0.66666667],\n",
       "       [0.        ],\n",
       "       [1.        ],\n",
       "       [1.        ],\n",
       "       [0.        ],\n",
       "       [0.66666667],\n",
       "       [1.        ],\n",
       "       [0.66666667],\n",
       "       [0.66666667],\n",
       "       [1.        ],\n",
       "       [1.        ],\n",
       "       [1.        ],\n",
       "       [0.66666667],\n",
       "       [1.        ],\n",
       "       [0.66666667],\n",
       "       [0.        ],\n",
       "       [1.        ],\n",
       "       [0.66666667],\n",
       "       [0.66666667],\n",
       "       [1.        ],\n",
       "       [0.        ],\n",
       "       [0.66666667],\n",
       "       [0.66666667],\n",
       "       [1.        ],\n",
       "       [0.66666667],\n",
       "       [1.        ],\n",
       "       [0.66666667],\n",
       "       [0.        ]])"
      ]
     },
     "execution_count": 69,
     "metadata": {},
     "output_type": "execute_result"
    }
   ],
   "source": [
    "X = MOADF.iloc[train, 1:-1]\n",
    "scaler.fit(X)\n",
    "X_scaled = scaler.transform(X)\n",
    "X_scaled"
   ]
  },
  {
   "cell_type": "code",
   "execution_count": 70,
   "id": "fe1ff31b-7af9-4b9e-b8a9-b0b2bf9c3ad3",
   "metadata": {},
   "outputs": [
    {
     "data": {
      "text/html": [
       "<div>\n",
       "<style scoped>\n",
       "    .dataframe tbody tr th:only-of-type {\n",
       "        vertical-align: middle;\n",
       "    }\n",
       "\n",
       "    .dataframe tbody tr th {\n",
       "        vertical-align: top;\n",
       "    }\n",
       "\n",
       "    .dataframe thead th {\n",
       "        text-align: right;\n",
       "    }\n",
       "</style>\n",
       "<table border=\"1\" class=\"dataframe\">\n",
       "  <thead>\n",
       "    <tr style=\"text-align: right;\">\n",
       "      <th></th>\n",
       "      <th>0</th>\n",
       "    </tr>\n",
       "  </thead>\n",
       "  <tbody>\n",
       "    <tr>\n",
       "      <th>0</th>\n",
       "      <td>0.666667</td>\n",
       "    </tr>\n",
       "    <tr>\n",
       "      <th>1</th>\n",
       "      <td>0.000000</td>\n",
       "    </tr>\n",
       "    <tr>\n",
       "      <th>2</th>\n",
       "      <td>1.000000</td>\n",
       "    </tr>\n",
       "    <tr>\n",
       "      <th>3</th>\n",
       "      <td>0.666667</td>\n",
       "    </tr>\n",
       "    <tr>\n",
       "      <th>4</th>\n",
       "      <td>0.000000</td>\n",
       "    </tr>\n",
       "    <tr>\n",
       "      <th>...</th>\n",
       "      <td>...</td>\n",
       "    </tr>\n",
       "    <tr>\n",
       "      <th>184</th>\n",
       "      <td>1.000000</td>\n",
       "    </tr>\n",
       "    <tr>\n",
       "      <th>185</th>\n",
       "      <td>0.666667</td>\n",
       "    </tr>\n",
       "    <tr>\n",
       "      <th>186</th>\n",
       "      <td>1.000000</td>\n",
       "    </tr>\n",
       "    <tr>\n",
       "      <th>187</th>\n",
       "      <td>0.666667</td>\n",
       "    </tr>\n",
       "    <tr>\n",
       "      <th>188</th>\n",
       "      <td>0.000000</td>\n",
       "    </tr>\n",
       "  </tbody>\n",
       "</table>\n",
       "<p>189 rows × 1 columns</p>\n",
       "</div>"
      ],
      "text/plain": [
       "            0\n",
       "0    0.666667\n",
       "1    0.000000\n",
       "2    1.000000\n",
       "3    0.666667\n",
       "4    0.000000\n",
       "..        ...\n",
       "184  1.000000\n",
       "185  0.666667\n",
       "186  1.000000\n",
       "187  0.666667\n",
       "188  0.000000\n",
       "\n",
       "[189 rows x 1 columns]"
      ]
     },
     "execution_count": 70,
     "metadata": {},
     "output_type": "execute_result"
    }
   ],
   "source": [
    "X_scaled = pd.DataFrame(X_scaled)\n",
    "X_scaled"
   ]
  },
  {
   "cell_type": "code",
   "execution_count": 71,
   "id": "610802c5-4ff1-4cc4-a517-d63056178a5f",
   "metadata": {},
   "outputs": [
    {
     "data": {
      "text/html": [
       "<div>\n",
       "<style scoped>\n",
       "    .dataframe tbody tr th:only-of-type {\n",
       "        vertical-align: middle;\n",
       "    }\n",
       "\n",
       "    .dataframe tbody tr th {\n",
       "        vertical-align: top;\n",
       "    }\n",
       "\n",
       "    .dataframe thead th {\n",
       "        text-align: right;\n",
       "    }\n",
       "</style>\n",
       "<table border=\"1\" class=\"dataframe\">\n",
       "  <thead>\n",
       "    <tr style=\"text-align: right;\">\n",
       "      <th></th>\n",
       "      <th>count</th>\n",
       "      <th>mean</th>\n",
       "      <th>std</th>\n",
       "      <th>min</th>\n",
       "      <th>25%</th>\n",
       "      <th>50%</th>\n",
       "      <th>75%</th>\n",
       "      <th>max</th>\n",
       "    </tr>\n",
       "  </thead>\n",
       "  <tbody>\n",
       "    <tr>\n",
       "      <th>meter</th>\n",
       "      <td>189.0</td>\n",
       "      <td>0.557319</td>\n",
       "      <td>0.42224</td>\n",
       "      <td>0.0</td>\n",
       "      <td>0.0</td>\n",
       "      <td>0.666667</td>\n",
       "      <td>1.0</td>\n",
       "      <td>1.0</td>\n",
       "    </tr>\n",
       "  </tbody>\n",
       "</table>\n",
       "</div>"
      ],
      "text/plain": [
       "       count      mean      std  min  25%       50%  75%  max\n",
       "meter  189.0  0.557319  0.42224  0.0  0.0  0.666667  1.0  1.0"
      ]
     },
     "execution_count": 71,
     "metadata": {},
     "output_type": "execute_result"
    }
   ],
   "source": [
    "X_scaled.columns = MOADF.columns[1:-1]\n",
    "X_scaled.describe().T"
   ]
  },
  {
   "cell_type": "code",
   "execution_count": 79,
   "id": "7287559e-87de-4d9c-9591-a0f5d03ad2f8",
   "metadata": {},
   "outputs": [
    {
     "data": {
      "text/html": [
       "<div>\n",
       "<style scoped>\n",
       "    .dataframe tbody tr th:only-of-type {\n",
       "        vertical-align: middle;\n",
       "    }\n",
       "\n",
       "    .dataframe tbody tr th {\n",
       "        vertical-align: top;\n",
       "    }\n",
       "\n",
       "    .dataframe thead th {\n",
       "        text-align: right;\n",
       "    }\n",
       "</style>\n",
       "<table border=\"1\" class=\"dataframe\">\n",
       "  <thead>\n",
       "    <tr style=\"text-align: right;\">\n",
       "      <th></th>\n",
       "      <th>count</th>\n",
       "      <th>mean</th>\n",
       "      <th>std</th>\n",
       "      <th>min</th>\n",
       "      <th>25%</th>\n",
       "      <th>50%</th>\n",
       "      <th>75%</th>\n",
       "      <th>max</th>\n",
       "    </tr>\n",
       "  </thead>\n",
       "  <tbody>\n",
       "    <tr>\n",
       "      <th>meter</th>\n",
       "      <td>189.0</td>\n",
       "      <td>0.557319</td>\n",
       "      <td>0.42224</td>\n",
       "      <td>0.0</td>\n",
       "      <td>0.0</td>\n",
       "      <td>0.666667</td>\n",
       "      <td>1.0</td>\n",
       "      <td>1.0</td>\n",
       "    </tr>\n",
       "  </tbody>\n",
       "</table>\n",
       "</div>"
      ],
      "text/plain": [
       "       count      mean      std  min  25%       50%  75%  max\n",
       "meter  189.0  0.557319  0.42224  0.0  0.0  0.666667  1.0  1.0"
      ]
     },
     "execution_count": 79,
     "metadata": {},
     "output_type": "execute_result"
    }
   ],
   "source": [
    "X_scaled.columns = MOADF.columns[1:-1]\n",
    "X_scaled.describe().T"
   ]
  },
  {
   "cell_type": "code",
   "execution_count": null,
   "id": "890b559e-55f7-4e55-928e-66bdc2751f59",
   "metadata": {},
   "outputs": [],
   "source": []
  }
 ],
 "metadata": {
  "kernelspec": {
   "display_name": "Python 3 (ipykernel)",
   "language": "python",
   "name": "python3"
  },
  "language_info": {
   "codemirror_mode": {
    "name": "ipython",
    "version": 3
   },
   "file_extension": ".py",
   "mimetype": "text/x-python",
   "name": "python",
   "nbconvert_exporter": "python",
   "pygments_lexer": "ipython3",
   "version": "3.9.7"
  }
 },
 "nbformat": 4,
 "nbformat_minor": 5
}
